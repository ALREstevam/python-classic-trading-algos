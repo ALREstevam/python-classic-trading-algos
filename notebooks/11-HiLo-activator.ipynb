{
 "cells": [
  {
   "cell_type": "code",
   "execution_count": 32,
   "metadata": {},
   "outputs": [],
   "source": [
    "import sys\n",
    "import os\n",
    "\n",
    "import chart_studio.plotly as plty\n",
    "import plotly.graph_objs as gobjs\n",
    "\n",
    "import plotly\n",
    "\n",
    "sys.path.insert(0, os.path.abspath('../py'))\n",
    "from Secrets import ReadSecrets\n",
    "secrets = ReadSecrets().read('../secrets.json')\n",
    "plty.sign_in(secrets.secrets['plotly']['username'], secrets.secrets['plotly']['apiKey'])\n",
    "\n",
    "from datetime import datetime as calendar\n",
    "import numpy as np\n",
    "\n",
    "from pandas_datareader import data as pdr\n",
    "import pandas as pd\n",
    "import yfinance as yf\n",
    "yf.pdr_override()\n",
    "\n",
    "from DataHelper import DataHelper\n",
    "\n",
    "from plotly import tools"
   ]
  },
  {
   "cell_type": "code",
   "execution_count": 24,
   "metadata": {},
   "outputs": [
    {
     "name": "stdout",
     "output_type": "stream",
     "text": [
      "[*********************100%***********************]  1 of 1 completed\n",
      "[*********************100%***********************]  1 of 1 completed\n",
      "[*********************100%***********************]  1 of 1 completed\n"
     ]
    }
   ],
   "source": [
    "data, close, extractors = DataHelper.get_history_formatted(['AAPL', 'MSFT', '^GSPC'], calendar(2016, 1 ,1), calendar(2020, 2, 1))\n",
    "msft = extractors['MSFT']()\n",
    "aapl = extractors['AAPL']()"
   ]
  },
  {
   "cell_type": "code",
   "execution_count": 86,
   "metadata": {},
   "outputs": [],
   "source": [
    "window_days = 15"
   ]
  },
  {
   "cell_type": "code",
   "execution_count": 87,
   "metadata": {},
   "outputs": [],
   "source": [
    "aapl_high_avg = aapl.High.rolling(window=window_days).mean()\n",
    "aapl_low_avg = aapl.Low.rolling(window=window_days).mean()"
   ]
  },
  {
   "cell_type": "code",
   "execution_count": 88,
   "metadata": {},
   "outputs": [
    {
     "data": {
      "text/html": [
       "\n",
       "        <iframe\n",
       "            width=\"100%\"\n",
       "            height=\"525px\"\n",
       "            src=\"https://plot.ly/~andreestevam/144.embed\"\n",
       "            frameborder=\"0\"\n",
       "            allowfullscreen\n",
       "        ></iframe>\n",
       "        "
      ],
      "text/plain": [
       "<IPython.lib.display.IFrame at 0x7f40efa2b410>"
      ]
     },
     "execution_count": 88,
     "metadata": {},
     "output_type": "execute_result"
    }
   ],
   "source": [
    "# Averages\n",
    "\n",
    "trace_high = gobjs.Scatter(\n",
    "                x=aapl_high_avg.index,\n",
    "                y=aapl_high_avg,\n",
    "                name = \"AAPL High Avg\",\n",
    "                line = dict(color = '#17BECF'),\n",
    "                opacity = 1)\n",
    "\n",
    "trace_low = gobjs.Scatter(\n",
    "                x=aapl_low_avg.index,\n",
    "                y=aapl_low_avg,\n",
    "                name = \"AAPL Low Avg\",\n",
    "                line = dict(color = '#B22222'),\n",
    "                opacity = 1)\n",
    "\n",
    "trace = gobjs.Candlestick(x=aapl.index,\n",
    "                open=aapl.Open,\n",
    "                high=aapl.High,\n",
    "                low=aapl.Low,\n",
    "                close=aapl.Close)\n",
    "\n",
    "fig = dict(data=[trace_high, trace_low, trace])\n",
    "plty.iplot(fig)"
   ]
  },
  {
   "cell_type": "code",
   "execution_count": 144,
   "metadata": {},
   "outputs": [],
   "source": [
    "aapl_high = pd.DataFrame(index=aapl.index, \n",
    "                         data={\n",
    "                             'high':np.where(aapl.Close > aapl_high_avg, aapl_low_avg, np.NaN)\n",
    "                         })\n",
    "aapl_low = pd.DataFrame(index=aapl.index, \n",
    "                        data={\n",
    "                            'low':np.where(aapl.Close < aapl_low_avg, aapl_high_avg, np.NaN)\n",
    "                        })"
   ]
  },
  {
   "cell_type": "code",
   "execution_count": 146,
   "metadata": {},
   "outputs": [
    {
     "data": {
      "text/html": [
       "<div>\n",
       "<style scoped>\n",
       "    .dataframe tbody tr th:only-of-type {\n",
       "        vertical-align: middle;\n",
       "    }\n",
       "\n",
       "    .dataframe tbody tr th {\n",
       "        vertical-align: top;\n",
       "    }\n",
       "\n",
       "    .dataframe thead th {\n",
       "        text-align: right;\n",
       "    }\n",
       "</style>\n",
       "<table border=\"1\" class=\"dataframe\">\n",
       "  <thead>\n",
       "    <tr style=\"text-align: right;\">\n",
       "      <th></th>\n",
       "      <th>low</th>\n",
       "    </tr>\n",
       "    <tr>\n",
       "      <th>Date</th>\n",
       "      <th></th>\n",
       "    </tr>\n",
       "  </thead>\n",
       "  <tbody>\n",
       "    <tr>\n",
       "      <th>2016-01-04</th>\n",
       "      <td>NaN</td>\n",
       "    </tr>\n",
       "    <tr>\n",
       "      <th>2016-01-05</th>\n",
       "      <td>NaN</td>\n",
       "    </tr>\n",
       "    <tr>\n",
       "      <th>2016-01-06</th>\n",
       "      <td>NaN</td>\n",
       "    </tr>\n",
       "    <tr>\n",
       "      <th>2016-01-07</th>\n",
       "      <td>NaN</td>\n",
       "    </tr>\n",
       "    <tr>\n",
       "      <th>2016-01-08</th>\n",
       "      <td>NaN</td>\n",
       "    </tr>\n",
       "    <tr>\n",
       "      <th>...</th>\n",
       "      <td>...</td>\n",
       "    </tr>\n",
       "    <tr>\n",
       "      <th>2020-01-27</th>\n",
       "      <td>3295.459326</td>\n",
       "    </tr>\n",
       "    <tr>\n",
       "      <th>2020-01-28</th>\n",
       "      <td>3298.055322</td>\n",
       "    </tr>\n",
       "    <tr>\n",
       "      <th>2020-01-29</th>\n",
       "      <td>3301.292660</td>\n",
       "    </tr>\n",
       "    <tr>\n",
       "      <th>2020-01-30</th>\n",
       "      <td>NaN</td>\n",
       "    </tr>\n",
       "    <tr>\n",
       "      <th>2020-01-31</th>\n",
       "      <td>3302.998649</td>\n",
       "    </tr>\n",
       "  </tbody>\n",
       "</table>\n",
       "<p>1027 rows × 1 columns</p>\n",
       "</div>"
      ],
      "text/plain": [
       "                    low\n",
       "Date                   \n",
       "2016-01-04          NaN\n",
       "2016-01-05          NaN\n",
       "2016-01-06          NaN\n",
       "2016-01-07          NaN\n",
       "2016-01-08          NaN\n",
       "...                 ...\n",
       "2020-01-27  3295.459326\n",
       "2020-01-28  3298.055322\n",
       "2020-01-29  3301.292660\n",
       "2020-01-30          NaN\n",
       "2020-01-31  3302.998649\n",
       "\n",
       "[1027 rows x 1 columns]"
      ]
     },
     "execution_count": 146,
     "metadata": {},
     "output_type": "execute_result"
    }
   ],
   "source": []
  },
  {
   "cell_type": "code",
   "execution_count": 151,
   "metadata": {},
   "outputs": [
    {
     "data": {
      "text/html": [
       "\n",
       "        <iframe\n",
       "            width=\"100%\"\n",
       "            height=\"525px\"\n",
       "            src=\"https://plot.ly/~andreestevam/182.embed\"\n",
       "            frameborder=\"0\"\n",
       "            allowfullscreen\n",
       "        ></iframe>\n",
       "        "
      ],
      "text/plain": [
       "<IPython.lib.display.IFrame at 0x7f40f4a2c1d0>"
      ]
     },
     "execution_count": 151,
     "metadata": {},
     "output_type": "execute_result"
    }
   ],
   "source": [
    "trace_high = gobjs.Scatter(\n",
    "                x=aapl_high.index,\n",
    "                y=aapl_high.high,\n",
    "                line = dict(color = '#17BECF'),\n",
    "                opacity = 1)\n",
    "\n",
    "trace_low = gobjs.Scatter(\n",
    "                x=aapl_low.index,\n",
    "                y=aapl_low.low,\n",
    "                line = dict(color = '#B22222'),\n",
    "                opacity = 1)\n",
    "\n",
    "trace = gobjs.Candlestick(x=aapl.index,\n",
    "                open=aapl.Open,\n",
    "                high=aapl.High,\n",
    "                low=aapl.Low,\n",
    "                close=aapl.Close)\n",
    "\n",
    "plty.iplot([trace_high, trace_low, trace])"
   ]
  },
  {
   "cell_type": "code",
   "execution_count": null,
   "metadata": {},
   "outputs": [],
   "source": []
  }
 ],
 "metadata": {
  "kernelspec": {
   "display_name": "Python 3",
   "language": "python",
   "name": "python3"
  },
  "language_info": {
   "codemirror_mode": {
    "name": "ipython",
    "version": 3
   },
   "file_extension": ".py",
   "mimetype": "text/x-python",
   "name": "python",
   "nbconvert_exporter": "python",
   "pygments_lexer": "ipython3",
   "version": "3.7.4"
  }
 },
 "nbformat": 4,
 "nbformat_minor": 4
}
