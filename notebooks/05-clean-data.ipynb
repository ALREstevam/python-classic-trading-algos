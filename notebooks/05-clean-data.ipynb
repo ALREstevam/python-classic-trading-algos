{
 "cells": [
  {
   "cell_type": "code",
   "execution_count": 1,
   "metadata": {},
   "outputs": [
    {
     "name": "stderr",
     "output_type": "stream",
     "text": [
      "/home/andre/Desktop/pythonTradingAlgos/tradingalgos/lib/python3.7/site-packages/pandas_datareader/compat/__init__.py:7: FutureWarning: pandas.util.testing is deprecated. Use the functions in the public API at pandas.testing instead.\n",
      "  from pandas.util.testing import assert_frame_equal\n"
     ]
    }
   ],
   "source": [
    "import sys\n",
    "import os\n",
    "sys.path.insert(0, os.path.abspath('../py'))\n",
    "from Secrets import ReadSecrets\n",
    "\n",
    "from pandas_datareader import data as pdr\n",
    "\n",
    "import pandas as pd\n",
    "\n",
    "import yfinance as yf\n",
    "yf.pdr_override()\n",
    "from datetime import datetime as calendar\n",
    "import numpy as np\n",
    "import chart_studio.plotly as plty\n",
    "\n",
    "secrets = ReadSecrets().read('../secrets.json')\n",
    "plty.sign_in(secrets.secrets['plotly']['username'], secrets.secrets['plotly']['apiKey'])\n",
    "\n",
    "import plotly.graph_objs as gobjs"
   ]
  },
  {
   "cell_type": "code",
   "execution_count": 2,
   "metadata": {},
   "outputs": [],
   "source": [
    "def get_history(tickers, start_date, end_date):\n",
    "    def data(ticker):\n",
    "        return (pdr.get_data_yahoo(ticker, start=start_date, end=end_date))\n",
    "        \n",
    "    tickers_data = map(data, tickers)\n",
    "    \n",
    "    return pd.concat(tickers_data, keys=tickers, names = ['Ticker', 'Date'])"
   ]
  },
  {
   "cell_type": "code",
   "execution_count": 4,
   "metadata": {},
   "outputs": [
    {
     "name": "stdout",
     "output_type": "stream",
     "text": [
      "[*********************100%***********************]  1 of 1 completed\n",
      "[*********************100%***********************]  1 of 1 completed\n",
      "[*********************100%***********************]  1 of 1 completed\n"
     ]
    }
   ],
   "source": [
    "tickers = ['AAPL', 'MSFT', '^GSPC']\n",
    "start_date = calendar(2016, 1 ,1)\n",
    "end_date = calendar(2018, 12, 31)\n",
    "\n",
    "data = get_history(tickers, start_date, end_date)\n",
    "data = data.reset_index()\n",
    "data = data.set_index(['Date', 'Ticker']).sort_index()\n",
    "close = data['Close']"
   ]
  },
  {
   "cell_type": "code",
   "execution_count": 5,
   "metadata": {},
   "outputs": [
    {
     "data": {
      "text/html": [
       "<div>\n",
       "<style scoped>\n",
       "    .dataframe tbody tr th:only-of-type {\n",
       "        vertical-align: middle;\n",
       "    }\n",
       "\n",
       "    .dataframe tbody tr th {\n",
       "        vertical-align: top;\n",
       "    }\n",
       "\n",
       "    .dataframe thead th {\n",
       "        text-align: right;\n",
       "    }\n",
       "</style>\n",
       "<table border=\"1\" class=\"dataframe\">\n",
       "  <thead>\n",
       "    <tr style=\"text-align: right;\">\n",
       "      <th></th>\n",
       "      <th></th>\n",
       "      <th>Open</th>\n",
       "      <th>High</th>\n",
       "      <th>Low</th>\n",
       "      <th>Close</th>\n",
       "      <th>Adj Close</th>\n",
       "      <th>Volume</th>\n",
       "    </tr>\n",
       "    <tr>\n",
       "      <th>Date</th>\n",
       "      <th>Ticker</th>\n",
       "      <th></th>\n",
       "      <th></th>\n",
       "      <th></th>\n",
       "      <th></th>\n",
       "      <th></th>\n",
       "      <th></th>\n",
       "    </tr>\n",
       "  </thead>\n",
       "  <tbody>\n",
       "    <tr>\n",
       "      <th rowspan=\"3\" valign=\"top\">2016-01-04</th>\n",
       "      <th>AAPL</th>\n",
       "      <td>102.610001</td>\n",
       "      <td>105.370003</td>\n",
       "      <td>102.000000</td>\n",
       "      <td>105.349998</td>\n",
       "      <td>98.213585</td>\n",
       "      <td>67649400</td>\n",
       "    </tr>\n",
       "    <tr>\n",
       "      <th>MSFT</th>\n",
       "      <td>54.320000</td>\n",
       "      <td>54.799999</td>\n",
       "      <td>53.389999</td>\n",
       "      <td>54.799999</td>\n",
       "      <td>50.536495</td>\n",
       "      <td>53778000</td>\n",
       "    </tr>\n",
       "    <tr>\n",
       "      <th>^GSPC</th>\n",
       "      <td>2038.199951</td>\n",
       "      <td>2038.199951</td>\n",
       "      <td>1989.680054</td>\n",
       "      <td>2012.660034</td>\n",
       "      <td>2012.660034</td>\n",
       "      <td>4304880000</td>\n",
       "    </tr>\n",
       "    <tr>\n",
       "      <th rowspan=\"2\" valign=\"top\">2016-01-05</th>\n",
       "      <th>AAPL</th>\n",
       "      <td>105.750000</td>\n",
       "      <td>105.849998</td>\n",
       "      <td>102.410004</td>\n",
       "      <td>102.709999</td>\n",
       "      <td>95.752419</td>\n",
       "      <td>55791000</td>\n",
       "    </tr>\n",
       "    <tr>\n",
       "      <th>MSFT</th>\n",
       "      <td>54.930000</td>\n",
       "      <td>55.389999</td>\n",
       "      <td>54.540001</td>\n",
       "      <td>55.049999</td>\n",
       "      <td>50.767044</td>\n",
       "      <td>34079700</td>\n",
       "    </tr>\n",
       "    <tr>\n",
       "      <th>...</th>\n",
       "      <th>...</th>\n",
       "      <td>...</td>\n",
       "      <td>...</td>\n",
       "      <td>...</td>\n",
       "      <td>...</td>\n",
       "      <td>...</td>\n",
       "      <td>...</td>\n",
       "    </tr>\n",
       "    <tr>\n",
       "      <th rowspan=\"2\" valign=\"top\">2018-12-27</th>\n",
       "      <th>MSFT</th>\n",
       "      <td>99.300003</td>\n",
       "      <td>101.190002</td>\n",
       "      <td>96.400002</td>\n",
       "      <td>101.180000</td>\n",
       "      <td>99.705742</td>\n",
       "      <td>49498500</td>\n",
       "    </tr>\n",
       "    <tr>\n",
       "      <th>^GSPC</th>\n",
       "      <td>2442.500000</td>\n",
       "      <td>2489.100098</td>\n",
       "      <td>2397.939941</td>\n",
       "      <td>2488.830078</td>\n",
       "      <td>2488.830078</td>\n",
       "      <td>4096610000</td>\n",
       "    </tr>\n",
       "    <tr>\n",
       "      <th rowspan=\"3\" valign=\"top\">2018-12-28</th>\n",
       "      <th>AAPL</th>\n",
       "      <td>157.500000</td>\n",
       "      <td>158.520004</td>\n",
       "      <td>154.550003</td>\n",
       "      <td>156.229996</td>\n",
       "      <td>153.552979</td>\n",
       "      <td>42291400</td>\n",
       "    </tr>\n",
       "    <tr>\n",
       "      <th>MSFT</th>\n",
       "      <td>102.089996</td>\n",
       "      <td>102.410004</td>\n",
       "      <td>99.519997</td>\n",
       "      <td>100.389999</td>\n",
       "      <td>98.927246</td>\n",
       "      <td>38196300</td>\n",
       "    </tr>\n",
       "    <tr>\n",
       "      <th>^GSPC</th>\n",
       "      <td>2498.770020</td>\n",
       "      <td>2520.270020</td>\n",
       "      <td>2472.889893</td>\n",
       "      <td>2485.739990</td>\n",
       "      <td>2485.739990</td>\n",
       "      <td>3702620000</td>\n",
       "    </tr>\n",
       "  </tbody>\n",
       "</table>\n",
       "<p>2259 rows × 6 columns</p>\n",
       "</div>"
      ],
      "text/plain": [
       "                          Open         High          Low        Close  \\\n",
       "Date       Ticker                                                       \n",
       "2016-01-04 AAPL     102.610001   105.370003   102.000000   105.349998   \n",
       "           MSFT      54.320000    54.799999    53.389999    54.799999   \n",
       "           ^GSPC   2038.199951  2038.199951  1989.680054  2012.660034   \n",
       "2016-01-05 AAPL     105.750000   105.849998   102.410004   102.709999   \n",
       "           MSFT      54.930000    55.389999    54.540001    55.049999   \n",
       "...                        ...          ...          ...          ...   \n",
       "2018-12-27 MSFT      99.300003   101.190002    96.400002   101.180000   \n",
       "           ^GSPC   2442.500000  2489.100098  2397.939941  2488.830078   \n",
       "2018-12-28 AAPL     157.500000   158.520004   154.550003   156.229996   \n",
       "           MSFT     102.089996   102.410004    99.519997   100.389999   \n",
       "           ^GSPC   2498.770020  2520.270020  2472.889893  2485.739990   \n",
       "\n",
       "                     Adj Close      Volume  \n",
       "Date       Ticker                           \n",
       "2016-01-04 AAPL      98.213585    67649400  \n",
       "           MSFT      50.536495    53778000  \n",
       "           ^GSPC   2012.660034  4304880000  \n",
       "2016-01-05 AAPL      95.752419    55791000  \n",
       "           MSFT      50.767044    34079700  \n",
       "...                        ...         ...  \n",
       "2018-12-27 MSFT      99.705742    49498500  \n",
       "           ^GSPC   2488.830078  4096610000  \n",
       "2018-12-28 AAPL     153.552979    42291400  \n",
       "           MSFT      98.927246    38196300  \n",
       "           ^GSPC   2485.739990  3702620000  \n",
       "\n",
       "[2259 rows x 6 columns]"
      ]
     },
     "metadata": {},
     "output_type": "display_data"
    }
   ],
   "source": [
    "display(data)\n"
   ]
  },
  {
   "cell_type": "code",
   "execution_count": 6,
   "metadata": {},
   "outputs": [
    {
     "data": {
      "text/plain": [
       "Date        Ticker\n",
       "2016-01-04  AAPL       105.349998\n",
       "            MSFT        54.799999\n",
       "            ^GSPC     2012.660034\n",
       "2016-01-05  AAPL       102.709999\n",
       "            MSFT        55.049999\n",
       "                         ...     \n",
       "2018-12-27  MSFT       101.180000\n",
       "            ^GSPC     2488.830078\n",
       "2018-12-28  AAPL       156.229996\n",
       "            MSFT       100.389999\n",
       "            ^GSPC     2485.739990\n",
       "Name: Close, Length: 2259, dtype: float64"
      ]
     },
     "metadata": {},
     "output_type": "display_data"
    }
   ],
   "source": [
    "display(close)"
   ]
  },
  {
   "cell_type": "code",
   "execution_count": 7,
   "metadata": {},
   "outputs": [],
   "source": [
    "weekdays = pd.date_range(start=start_date, end=end_date, freq='B') # all weekdays in the interval\n",
    "close = close.reindex(pd.MultiIndex.from_product([weekdays, tickers], names=['Date', 'Ticker']), fill_value=np.NaN)"
   ]
  },
  {
   "cell_type": "code",
   "execution_count": 8,
   "metadata": {},
   "outputs": [
    {
     "data": {
      "text/plain": [
       "Date        Ticker\n",
       "2016-01-01  AAPL              NaN\n",
       "            MSFT              NaN\n",
       "            ^GSPC             NaN\n",
       "2016-01-04  AAPL       105.349998\n",
       "            MSFT        54.799999\n",
       "            ^GSPC     2012.660034\n",
       "2016-01-05  AAPL       102.709999\n",
       "            MSFT        55.049999\n",
       "            ^GSPC     2016.709961\n",
       "2016-01-06  AAPL       100.699997\n",
       "Name: Close, dtype: float64"
      ]
     },
     "execution_count": 8,
     "metadata": {},
     "output_type": "execute_result"
    }
   ],
   "source": [
    "close.head(10)"
   ]
  },
  {
   "cell_type": "code",
   "execution_count": 9,
   "metadata": {},
   "outputs": [],
   "source": [
    "close = close.reset_index().pivot(index='Date', columns='Ticker', values='Close')"
   ]
  },
  {
   "cell_type": "code",
   "execution_count": null,
   "metadata": {},
   "outputs": [],
   "source": []
  }
 ],
 "metadata": {
  "kernelspec": {
   "display_name": "Python 3",
   "language": "python",
   "name": "python3"
  },
  "language_info": {
   "codemirror_mode": {
    "name": "ipython",
    "version": 3
   },
   "file_extension": ".py",
   "mimetype": "text/x-python",
   "name": "python",
   "nbconvert_exporter": "python",
   "pygments_lexer": "ipython3",
   "version": "3.7.4"
  }
 },
 "nbformat": 4,
 "nbformat_minor": 4
}
