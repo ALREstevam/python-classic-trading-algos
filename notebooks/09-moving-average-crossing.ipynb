{
 "cells": [
  {
   "cell_type": "code",
   "execution_count": 4,
   "metadata": {},
   "outputs": [],
   "source": [
    "import sys\n",
    "import os\n",
    "\n",
    "import chart_studio.plotly as plty\n",
    "import plotly.graph_objs as gobjs\n",
    "\n",
    "sys.path.insert(0, os.path.abspath('../py'))\n",
    "from Secrets import ReadSecrets\n",
    "secrets = ReadSecrets().read('../secrets.json')\n",
    "plty.sign_in(secrets.secrets['plotly']['username'], secrets.secrets['plotly']['apiKey'])\n",
    "\n",
    "from datetime import datetime as calendar\n",
    "import numpy as np\n",
    "\n",
    "from pandas_datareader import data as pdr\n",
    "import pandas as pd\n",
    "import yfinance as yf\n",
    "yf.pdr_override()\n",
    "\n",
    "from DataHelper import DataHelper"
   ]
  },
  {
   "cell_type": "code",
   "execution_count": 12,
   "metadata": {},
   "outputs": [
    {
     "name": "stdout",
     "output_type": "stream",
     "text": [
      "[*********************100%***********************]  1 of 1 completed\n",
      "[*********************100%***********************]  1 of 1 completed\n",
      "[*********************100%***********************]  1 of 1 completed\n"
     ]
    }
   ],
   "source": [
    "data, close, extractors = DataHelper.get_history_formatted(['AAPL', 'MSFT', '^GSPC'], calendar(2016, 1 ,1), calendar(2020, 2, 1))\n",
    "msft = extractors['MSFT']()\n",
    "msft = msft.Close"
   ]
  },
  {
   "cell_type": "code",
   "execution_count": 13,
   "metadata": {},
   "outputs": [],
   "source": [
    "short_rolling_msft = msft.rolling(window=9).mean()\n",
    "long_rolling_msft = msft.rolling(window=21).mean()"
   ]
  },
  {
   "cell_type": "code",
   "execution_count": 14,
   "metadata": {},
   "outputs": [
    {
     "data": {
      "text/html": [
       "\n",
       "        <iframe\n",
       "            width=\"100%\"\n",
       "            height=\"525px\"\n",
       "            src=\"https://plot.ly/~andreestevam/87.embed\"\n",
       "            frameborder=\"0\"\n",
       "            allowfullscreen\n",
       "        ></iframe>\n",
       "        "
      ],
      "text/plain": [
       "<IPython.lib.display.IFrame at 0x7f6eb88d2f10>"
      ]
     },
     "execution_count": 14,
     "metadata": {},
     "output_type": "execute_result"
    }
   ],
   "source": [
    "trace_short = gobjs.Scatter(\n",
    "                x=short_rolling_msft.index,\n",
    "                y=short_rolling_msft,\n",
    "                name = \"MSFT Short\",\n",
    "                line = dict(color = '#17BECF'),\n",
    "                opacity = 1)\n",
    "\n",
    "trace_long = gobjs.Scatter(\n",
    "                x=long_rolling_msft.index,\n",
    "                y=long_rolling_msft,\n",
    "                name = \"MSFT Long\",\n",
    "                line = dict(color = '#7F7F7F'),\n",
    "                opacity = 1)\n",
    "\n",
    "trace_price = gobjs.Scatter(\n",
    "                x=msft.index,\n",
    "                y=msft,\n",
    "                name = \"MSFT Price\",\n",
    "                line = dict(color = '#B22222'),\n",
    "                opacity = 0.8)\n",
    "\n",
    "fig = dict(data=[trace_short, trace_long, trace_price])\n",
    "plty.iplot(fig)"
   ]
  },
  {
   "cell_type": "code",
   "execution_count": 15,
   "metadata": {},
   "outputs": [
    {
     "data": {
      "text/plain": [
       "Date\n",
       "2016-01-04            NaN\n",
       "2016-01-05            NaN\n",
       "2016-01-06            NaN\n",
       "2016-01-07            NaN\n",
       "2016-01-08            NaN\n",
       "                 ...     \n",
       "2020-01-27    3272.163818\n",
       "2020-01-28    3273.893822\n",
       "2020-01-29    3275.483340\n",
       "2020-01-30    3278.453334\n",
       "2020-01-31    3278.202858\n",
       "Name: Close, Length: 1027, dtype: float64"
      ]
     },
     "execution_count": 15,
     "metadata": {},
     "output_type": "execute_result"
    }
   ],
   "source": [
    "long_rolling_msft\n"
   ]
  },
  {
   "cell_type": "code",
   "execution_count": null,
   "metadata": {},
   "outputs": [],
   "source": []
  }
 ],
 "metadata": {
  "kernelspec": {
   "display_name": "Python 3",
   "language": "python",
   "name": "python3"
  },
  "language_info": {
   "codemirror_mode": {
    "name": "ipython",
    "version": 3
   },
   "file_extension": ".py",
   "mimetype": "text/x-python",
   "name": "python",
   "nbconvert_exporter": "python",
   "pygments_lexer": "ipython3",
   "version": "3.7.4"
  }
 },
 "nbformat": 4,
 "nbformat_minor": 4
}
