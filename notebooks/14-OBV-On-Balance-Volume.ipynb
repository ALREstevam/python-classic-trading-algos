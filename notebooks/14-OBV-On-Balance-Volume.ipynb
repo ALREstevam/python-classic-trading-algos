{
 "cells": [
  {
   "cell_type": "markdown",
   "metadata": {},
   "source": [
    "# On-balance volume\n",
    "\n",
    "* It measures the **buy** and **sell** pressures\n",
    "* It uses the **volume**\n",
    "* Can be used to\n",
    "  * Measure the **strength** of a trend\n",
    "  * **Identify** or **confirm** possible reversions\n",
    "  * **Show** the beginning of a **new trend**\n",
    "\n",
    "**Attention:** these sites ([[1]](https://school.stockcharts.com/doku.php?id=technical_indicators:on_balance_volume_obv), [[2]](https://www.investopedia.com/terms/o/onbalancevolume.asp)) define the OBV as:\n",
    "\n",
    "```pseudocode\n",
    "if close_price > close_price_prev:\n",
    "\tOBV = OBV_prev + volume_current\n",
    "\t\n",
    "if close_price < close_price_prev:\n",
    "\tOBV = OBV_prev - volume_current\n",
    "\n",
    "if close_price == close_price_prev: //else\n",
    "\tOBV = OBV_prev\n",
    "```\n",
    "\n",
    "My book defines it as\n",
    "\n",
    "```pseudocode\n",
    "if close_price > open_price:\n",
    "\tOBV = OBV_prev + volume_current\n",
    "\t\n",
    "if close_price < open_price:\n",
    "\tOBV = OBV_prev - volume_current\n",
    "\n",
    "if close_price == close_price_prev: //else\n",
    "\tclose_price = open_price //?\n",
    "```\n",
    "\n",
    "\n",
    "\n",
    "## OBV Analisys\n",
    "\n",
    "* **OBV Growth**\n",
    "  * There are more **buyers** then sellers\n",
    "  * The prices will **raise**\n",
    "* **OBV degrowth**\n",
    "  * There are more **sellers** then buyers\n",
    "  * The prices will **decrease**\n",
    "\n",
    "\n",
    "\n",
    "## OBV Patterns\n",
    "\n",
    "* **Divergence**\n",
    "  * When the OBV trend \"disagrees\" with the price trend - when they're going in opposite directions\n",
    "  * **Strong pattern**: *OBV down Price up*\n",
    "  * Divergences indicates possible opportunities for buying or selling depending on the **size** of the divergence\n",
    "* **Confirmation**\n",
    "  * Can confirm new trends by applying support and resistance on the OBV chart"
   ]
  },
  {
   "cell_type": "code",
   "execution_count": 1,
   "metadata": {},
   "outputs": [
    {
     "name": "stderr",
     "output_type": "stream",
     "text": [
      "/home/andre/Desktop/pythonTradingAlgos/tradingalgos/lib/python3.7/site-packages/pandas_datareader/compat/__init__.py:7: FutureWarning:\n",
      "\n",
      "pandas.util.testing is deprecated. Use the functions in the public API at pandas.testing instead.\n",
      "\n"
     ]
    }
   ],
   "source": [
    "import sys\n",
    "import os\n",
    "\n",
    "import chart_studio.plotly as plty\n",
    "import plotly.graph_objs as gobjs\n",
    "\n",
    "import plotly\n",
    "\n",
    "sys.path.insert(0, os.path.abspath('../py'))\n",
    "from Secrets import ReadSecrets\n",
    "\n",
    "\n",
    "account = ReadSecrets()\\\n",
    "        .set_secrets_path('../secrets.json')\\\n",
    "        .set_default_accessors()\\\n",
    "        .access('plotly')['main_account']\n",
    "\n",
    "plty.sign_in(account['username'], account['apiKey'])\n",
    "\n",
    "\n",
    "from datetime import datetime as calendar\n",
    "import numpy as np\n",
    "\n",
    "from pandas_datareader import data as pdr\n",
    "import pandas as pd\n",
    "import yfinance as yf\n",
    "yf.pdr_override()\n",
    "\n",
    "from DataHelper import DataHelper\n",
    "\n",
    "from plotly import tools"
   ]
  },
  {
   "cell_type": "code",
   "execution_count": 2,
   "metadata": {},
   "outputs": [
    {
     "name": "stdout",
     "output_type": "stream",
     "text": [
      "[*********************100%***********************]  1 of 1 completed\n",
      "[*********************100%***********************]  1 of 1 completed\n",
      "[*********************100%***********************]  1 of 1 completed\n"
     ]
    }
   ],
   "source": [
    "data, close, extractors = DataHelper.get_history_formatted(['AAPL', 'MSFT', '^GSPC'], calendar(2016, 1 ,1), calendar(2020, 2, 1))\n",
    "msft = extractors['MSFT']()\n",
    "aapl = extractors['AAPL']()"
   ]
  },
  {
   "cell_type": "code",
   "execution_count": 3,
   "metadata": {},
   "outputs": [],
   "source": [
    "obv = pd.DataFrame(index=aapl.index)\n",
    "\n",
    "# get the percentual changes between day[i] and day[i-1]\n",
    "obv_changes = aapl.Close - aapl.Open\n",
    "\n",
    "obv['open'] = aapl.Open\n",
    "obv['close'] = aapl.Close\n",
    "obv['volume'] = np.where(obv_changes > 0, aapl.Volume , aapl.Volume * (-1))\n",
    "\n",
    "# get days with positive profit (gain)\n",
    "obv['volume_sum'] = obv.volume.cumsum()"
   ]
  },
  {
   "cell_type": "code",
   "execution_count": 6,
   "metadata": {},
   "outputs": [
    {
     "data": {
      "text/html": [
       "\n",
       "        <iframe\n",
       "            width=\"100%\"\n",
       "            height=\"525px\"\n",
       "            src=\"https://plot.ly/~andreestevam/271.embed\"\n",
       "            frameborder=\"0\"\n",
       "            allowfullscreen\n",
       "        ></iframe>\n",
       "        "
      ],
      "text/plain": [
       "<IPython.lib.display.IFrame at 0x7f58743b75d0>"
      ]
     },
     "execution_count": 6,
     "metadata": {},
     "output_type": "execute_result"
    }
   ],
   "source": [
    "trace_obv = gobjs.Scatter(\n",
    "                    x=obv.index,\n",
    "                    y=obv.volume_sum,\n",
    "                    xaxis='x2',\n",
    "                    yaxis='y2')\n",
    "\n",
    "trace_candles = gobjs.Candlestick(x=aapl.index,\n",
    "                    open=aapl.Open,\n",
    "                    high=aapl.High,\n",
    "                    low=aapl.Low,\n",
    "                    close=aapl.Close)\n",
    "\n",
    "data = [trace_obv, trace_candles]\n",
    "\n",
    "layout = gobjs.Layout(\n",
    "    xaxis=dict(\n",
    "        domain=[0, 1],\n",
    "        rangeslider={\"visible\": False},\n",
    "    ),\n",
    "    yaxis=dict(\n",
    "        domain=[0.75, 1],        \n",
    "    ),\n",
    "    xaxis2=dict(\n",
    "        domain=[0, 1],\n",
    "        anchor='y2'\n",
    "        \n",
    "    ),\n",
    "    yaxis2=dict(\n",
    "        domain=[0, 0.45],\n",
    "        anchor='x2'\n",
    "        \n",
    "    )\n",
    ")\n",
    "fig = gobjs.Figure(data=data, layout=layout)\n",
    "\n",
    "plty.iplot(fig, filename='obv-plot')\n",
    "\n"
   ]
  },
  {
   "cell_type": "code",
   "execution_count": 38,
   "metadata": {},
   "outputs": [],
   "source": [
    "obv = pd.DataFrame(index=aapl.index, data={\n",
    "    'Close': aapl.Close,\n",
    "    'PrevClose': aapl.Close.shift(1),\n",
    "    'Volume': aapl.Volume,\n",
    "    'PrevVolume': aapl.Volume.shift(1),\n",
    "})\n",
    "\n",
    "\n",
    "obv['ObvGreater'] = np.where(obv.Close > obv.PrevClose, obv.Volume, 0)\n",
    "obv['ObvSmaller'] = np.where(obv.Close < obv.PrevClose, -obv.Volume, 0)\n",
    "obv['ObvVolume'] = obv.ObvGreater + obv.ObvSmaller\n",
    "obv['ObvVolumeCumulative'] = obv.ObvVolume.cumsum()\n"
   ]
  },
  {
   "cell_type": "code",
   "execution_count": 40,
   "metadata": {},
   "outputs": [
    {
     "data": {
      "text/html": [
       "\n",
       "        <iframe\n",
       "            width=\"100%\"\n",
       "            height=\"525px\"\n",
       "            src=\"https://plot.ly/~andreestevam/271.embed\"\n",
       "            frameborder=\"0\"\n",
       "            allowfullscreen\n",
       "        ></iframe>\n",
       "        "
      ],
      "text/plain": [
       "<IPython.lib.display.IFrame at 0x7f587439cd90>"
      ]
     },
     "execution_count": 40,
     "metadata": {},
     "output_type": "execute_result"
    }
   ],
   "source": [
    "trace_obv = gobjs.Scatter(\n",
    "                    x=obv.index,\n",
    "                    y=obv.ObvVolumeCumulative,\n",
    "                    xaxis='x2',\n",
    "                    yaxis='y2')\n",
    "\n",
    "trace_candles = gobjs.Candlestick(x=aapl.index,\n",
    "                    open=aapl.Open,\n",
    "                    high=aapl.High,\n",
    "                    low=aapl.Low,\n",
    "                    close=aapl.Close)\n",
    "\n",
    "data = [trace_obv, trace_candles]\n",
    "\n",
    "layout = gobjs.Layout(\n",
    "    xaxis=dict(\n",
    "        domain=[0, 1],\n",
    "        rangeslider={\"visible\": False},\n",
    "    ),\n",
    "    yaxis=dict(\n",
    "        domain=[0.75, 1],        \n",
    "    ),\n",
    "    xaxis2=dict(\n",
    "        domain=[0, 1],\n",
    "        anchor='y2'\n",
    "        \n",
    "    ),\n",
    "    yaxis2=dict(\n",
    "        domain=[0, 0.45],\n",
    "        anchor='x2'\n",
    "        \n",
    "    )\n",
    ")\n",
    "fig = gobjs.Figure(data=data, layout=layout)\n",
    "\n",
    "plty.iplot(fig, filename='obv-plot')"
   ]
  },
  {
   "cell_type": "code",
   "execution_count": null,
   "metadata": {},
   "outputs": [],
   "source": []
  }
 ],
 "metadata": {
  "kernelspec": {
   "display_name": "Python 3",
   "language": "python",
   "name": "python3"
  },
  "language_info": {
   "codemirror_mode": {
    "name": "ipython",
    "version": 3
   },
   "file_extension": ".py",
   "mimetype": "text/x-python",
   "name": "python",
   "nbconvert_exporter": "python",
   "pygments_lexer": "ipython3",
   "version": "3.7.4"
  }
 },
 "nbformat": 4,
 "nbformat_minor": 4
}
