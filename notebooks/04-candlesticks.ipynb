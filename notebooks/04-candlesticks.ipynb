{
 "cells": [
  {
   "cell_type": "code",
   "execution_count": 1,
   "metadata": {},
   "outputs": [
    {
     "name": "stderr",
     "output_type": "stream",
     "text": [
      "/home/andre/Desktop/pythonTradingAlgos/tradingalgos/lib/python3.7/site-packages/pandas_datareader/compat/__init__.py:7: FutureWarning: pandas.util.testing is deprecated. Use the functions in the public API at pandas.testing instead.\n",
      "  from pandas.util.testing import assert_frame_equal\n"
     ]
    }
   ],
   "source": [
    "import sys\n",
    "import os\n",
    "sys.path.insert(0, os.path.abspath('../py'))\n",
    "from Secrets import ReadSecrets\n",
    "\n",
    "from pandas_datareader import data as pdr\n",
    "\n",
    "import pandas as pd\n",
    "\n",
    "import yfinance as yf\n",
    "yf.pdr_override()\n",
    "from datetime import datetime as calendar\n",
    "import numpy as np\n",
    "import chart_studio.plotly as plty\n",
    "\n",
    "secrets = ReadSecrets().read('../secrets.json')\n",
    "plty.sign_in(secrets.secrets['plotly']['username'], secrets.secrets['plotly']['apiKey'])\n",
    "\n",
    "import plotly.graph_objs as gobjs"
   ]
  },
  {
   "cell_type": "code",
   "execution_count": 4,
   "metadata": {},
   "outputs": [],
   "source": [
    "def get_history(tickers, start_date, end_date):\n",
    "    def data(ticker):\n",
    "        return (pdr.get_data_yahoo(ticker, start=start_date, end=end_date))\n",
    "        \n",
    "    tickers_data = map(data, tickers)\n",
    "    \n",
    "    return pd.concat(tickers_data, keys=tickers, names = ['Ticker', 'Date'])"
   ]
  },
  {
   "cell_type": "code",
   "execution_count": 9,
   "metadata": {},
   "outputs": [
    {
     "name": "stdout",
     "output_type": "stream",
     "text": [
      "[*********************100%***********************]  1 of 1 completed\n",
      "[*********************100%***********************]  1 of 1 completed\n",
      "[*********************100%***********************]  1 of 1 completed\n"
     ]
    }
   ],
   "source": [
    "tickers = ['AAPL', 'MSFT', '^GSPC']\n",
    "start_date = calendar(2016, 1 ,1)\n",
    "end_date = calendar(2018, 12, 31)\n",
    "\n",
    "data = get_history(tickers, start_date, end_date)"
   ]
  },
  {
   "cell_type": "code",
   "execution_count": 16,
   "metadata": {},
   "outputs": [
    {
     "data": {
      "text/html": [
       "\n",
       "        <iframe\n",
       "            width=\"100%\"\n",
       "            height=\"525px\"\n",
       "            src=\"https://plot.ly/~andreestevam/37.embed\"\n",
       "            frameborder=\"0\"\n",
       "            allowfullscreen\n",
       "        ></iframe>\n",
       "        "
      ],
      "text/plain": [
       "<IPython.lib.display.IFrame at 0x7f95c2f01e10>"
      ]
     },
     "execution_count": 16,
     "metadata": {},
     "output_type": "execute_result"
    }
   ],
   "source": [
    "trace = gobjs.Candlestick(x=data.loc['MSFT'].index,\n",
    "                open=data.loc['MSFT'].Open,\n",
    "                high=data.loc['MSFT'].High,\n",
    "                low=data.loc['MSFT'].Low,\n",
    "                close=data.loc['MSFT'].Close)\n",
    "data = [trace]\n",
    "plty.iplot(data)"
   ]
  },
  {
   "cell_type": "code",
   "execution_count": 15,
   "metadata": {},
   "outputs": [
    {
     "data": {
      "text/plain": [
       "Date\n",
       "2016-01-04     54.799999\n",
       "2016-01-05     55.389999\n",
       "2016-01-06     54.400002\n",
       "2016-01-07     53.490002\n",
       "2016-01-08     53.279999\n",
       "                 ...    \n",
       "2018-12-21    103.000000\n",
       "2018-12-24     97.970001\n",
       "2018-12-26    100.690002\n",
       "2018-12-27    101.190002\n",
       "2018-12-28    102.410004\n",
       "Name: High, Length: 753, dtype: float64"
      ]
     },
     "execution_count": 15,
     "metadata": {},
     "output_type": "execute_result"
    }
   ],
   "source": []
  },
  {
   "cell_type": "code",
   "execution_count": null,
   "metadata": {},
   "outputs": [],
   "source": []
  }
 ],
 "metadata": {
  "kernelspec": {
   "display_name": "Python 3",
   "language": "python",
   "name": "python3"
  },
  "language_info": {
   "codemirror_mode": {
    "name": "ipython",
    "version": 3
   },
   "file_extension": ".py",
   "mimetype": "text/x-python",
   "name": "python",
   "nbconvert_exporter": "python",
   "pygments_lexer": "ipython3",
   "version": "3.7.4"
  }
 },
 "nbformat": 4,
 "nbformat_minor": 4
}
