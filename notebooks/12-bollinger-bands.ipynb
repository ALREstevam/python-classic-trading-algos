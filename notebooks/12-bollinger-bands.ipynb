{
 "cells": [
  {
   "cell_type": "markdown",
   "metadata": {},
   "source": [
    "# Bollinger Bands\n",
    "\n",
    "* It's capable of measuring the **volatility** of the prices\n",
    "* It helps to visualize maximums and minimums \n",
    "* It helps to identify **overvaluation** and **undervaluation** of the prices\n",
    "  * When the price is **overvalued** you may want to **sell it** expecting that after that appreciation period, the prices will **decrease**\n",
    "  * When the price is **devalued** you may want to **buy it** expecting that after that depreciation period, the prices will **increase**\n",
    "\n",
    "\n",
    "\n",
    "\n",
    "* The upper and lower bands creates a kind of channel where the stock prices lives in\n",
    "\n",
    "\n",
    "\n",
    "The upper band is calculated by:\n",
    "$$\n",
    "upperband = sma( \\ lastdays(20) \\ ) + ( \\ 2 * sdev(lastdays(20)) \\ )\n",
    "$$\n",
    "\n",
    "\n",
    "The lower band is calculated by:\n",
    "$$\n",
    "upperband = sma( \\ lastdays(20) \\ ) - ( \\ 2 * sdev(lastdays(20)) \\ )\n",
    "$$\n",
    "\n",
    "\n",
    "* $20$ is the number of contiguous days considered to calculate the standard deviation and the moving average - normally it's treated as a standard.\n",
    "* The standard deviation is multiplied by $2$ using a statistics fact that in a normal distribution $95\\%$ of the values will be in a distance of $2 * stdev$ from the average, but this is not totally true for this case because the prices may not follow a normal distribution\n",
    "\n",
    "\n",
    "\n",
    "## Support and resistance\n",
    "\n",
    "* Buyers and sellers can take control of the market\n",
    "  * If everyone wants to buy, by the low of supply and demand, the prices shall raise\n",
    "  * In this case, a depreciation may be reverted, and the prices begin to raise\n",
    "  * In the analogous case, if everyone wants to sell, the price will decrease\n",
    "  * With more product in the market, the price will tend to fall\n",
    "\n",
    "\n",
    "\n",
    "* **Support** is a region where the prices face a difficulty to continue to **fall** e.g. **buyers** are taking control of the market \n",
    "* **Resistance** is a region where the prices face a difficulty to continue to **raise** e.g. **sellers** are taking control of the market \n",
    "\n",
    "\n",
    "\n",
    "![](https://i.ibb.co/GRxBd4v/Screenshot-20200213-111254.png)\n",
    "\n",
    "\n",
    "\n",
    "## Channel break\n",
    "\n",
    "* When the lines of the channel become closer and a well defined channel is formed - the supply and demand may be in equilibrium \n",
    "\n",
    "* When the prices broke of the channel there may be a strong tendency of raise or fall of the prices\n",
    "\n",
    "\n",
    "\n",
    "**But** a channel break does not mean that you should buy or sell anything - it's necessary to use other trading indicators to confirm the decision\n",
    "\n",
    "\n",
    "\n",
    "## Bollinger laws\n",
    "\n",
    "1. The Bollinger bands provide a relative definition of cheap and expensive - by definition **upper band** means *expensive* and **lower band** means *cheap*\n",
    "2. The relative definition can be applied to compare the price movement but, the movement itself (not only the bands) should be used to make more precise buy and sell decisions\n",
    "3. Useful trading indicators can be derived from\n",
    "   1. momentum\n",
    "   2. volume\n",
    "   3. sentiment\n",
    "   4. open interest\n",
    "   5. data across markets\n",
    "   6. etc\n",
    "4. If you're using two or more trading indicators, they shall be of different types *\"two momentum indicators aren't better then one\"*\n",
    "5. Bollinger bands can be used to identify / elucidate price patterns like *M* on top or *W* on bottom\n",
    "6. The mere crossing of the prices with band's limits does not indicate that you should buy or sell anything (at least not by itself - again, **use more indicators**)\n",
    "7. In markets of high tendency (upward or downward trend) the prices will **cross both** top and bottom bands\n",
    "8. Market close outside the bands are **continuation** indicators, not **reversion**\n",
    "9. The use of $20$ days for the calculation are not complete standards, it may work on the majority of the shares but better results can be archived by adapting this value to the specific stock / market that you're operating on\n",
    "10. The crossing of the prices with the central line does not indicate a **strong** new trend, it's a \"**medium**\" confirmation that a new trend is coming\n",
    "11. If you decide to change the amount of days used on the $sma$ you should also change the $stdev$ multiplication factor (lets call it $\\alpha$)\n",
    "    * **if** $d=20$ **then** $\\alpha$ should be $2$\n",
    "    * **if** $d=50$ **then** $\\alpha$ should be $2.1$\n",
    "    * **if** $d=10$ **then** $\\alpha$ should be $1.9$\n",
    "    * *Note: the book that I'm consulting to write this information does not make clear what rule should i use for any value of $d$* ![](https://i.ibb.co/SxvbjNg/Screenshot-20200213-123109.png) From regressions calculated on Geogebra, considering only this three examples we can arrive in some formula between\n",
    "    * $\\alpha(days)=0.0046 * days + 1.8791$ (*linear*) **to** $\\alpha(days) = 1.88 \\ * \\ 1^days$ (*fitting growth*) \n",
    "12. The traditional Bolling bands uses a **simple moving average** to be logically consistent because that's what is used to calculate the **standard deviation**\n",
    "13. You can use the **exponential moving average** in the calculations - this will eliminate sudden changes in the band width caused by a large price changes - this average shall be used for the moving average and the standard deviation on all lines\n",
    "14. Do not make statistical assumptions based on the standard deviation - the distribution is **not normal** and the  $n$ of samples aren't big enough for having **statistical significance** (you could expect $90\\%$ instead of $95\\%$ of the data inside the band with the default parameters)\n",
    "15. Bollinger bands does not provide a continuous signalization - instead they help to identify configurations where the probabilities may be in your favor\n",
    "\n"
   ]
  },
  {
   "cell_type": "code",
   "execution_count": 28,
   "metadata": {},
   "outputs": [],
   "source": [
    "import sys\n",
    "import os\n",
    "\n",
    "import chart_studio.plotly as plty\n",
    "import plotly.graph_objs as gobjs\n",
    "\n",
    "import plotly\n",
    "\n",
    "sys.path.insert(0, os.path.abspath('../py'))\n",
    "from Secrets import ReadSecrets\n",
    "secrets = ReadSecrets().read('../secrets.json')\n",
    "plty.sign_in(secrets.secrets['plotly']['username'], secrets.secrets['plotly']['apiKey'])\n",
    "\n",
    "from datetime import datetime as calendar\n",
    "import numpy as np\n",
    "\n",
    "from pandas_datareader import data as pdr\n",
    "import pandas as pd\n",
    "import yfinance as yf\n",
    "yf.pdr_override()\n",
    "\n",
    "from DataHelper import DataHelper\n",
    "\n",
    "from plotly import tools"
   ]
  },
  {
   "cell_type": "code",
   "execution_count": 29,
   "metadata": {},
   "outputs": [
    {
     "name": "stdout",
     "output_type": "stream",
     "text": [
      "[*********************100%***********************]  1 of 1 completed\n",
      "[*********************100%***********************]  1 of 1 completed\n",
      "[*********************100%***********************]  1 of 1 completed\n"
     ]
    }
   ],
   "source": [
    "data, close, extractors = DataHelper.get_history_formatted(['AAPL', 'MSFT', '^GSPC'], calendar(2016, 1 ,1), calendar(2020, 2, 1))\n",
    "msft = extractors['MSFT']()\n",
    "aapl = extractors['AAPL']()"
   ]
  },
  {
   "cell_type": "markdown",
   "metadata": {},
   "source": [
    "## With SMA"
   ]
  },
  {
   "cell_type": "code",
   "execution_count": 30,
   "metadata": {},
   "outputs": [
    {
     "name": "stdout",
     "output_type": "stream",
     "text": [
      "Considering a window of 20 days, the alpha (sdev multiplication factor) was calculated as 1.9711\n"
     ]
    }
   ],
   "source": [
    "window = 20\n",
    "alpha = 0.0046 * window + 1.8791\n",
    "\n",
    "print(f'Considering a window of {window} days, the alpha (sdev multiplication factor) was calculated as {alpha}')"
   ]
  },
  {
   "cell_type": "code",
   "execution_count": 31,
   "metadata": {},
   "outputs": [],
   "source": [
    "aapl_avg = aapl.Close.rolling(window=window).mean().dropna()\n",
    "aapl_std = aapl.Close.rolling(window=window).std().dropna()"
   ]
  },
  {
   "cell_type": "code",
   "execution_count": 32,
   "metadata": {},
   "outputs": [],
   "source": [
    "aapl_bollinger = pd.DataFrame(index=aapl_avg.index)\n",
    "aapl_bollinger['mband'] = aapl_avg\n",
    "aapl_bollinger['uband'] = aapl_avg + aapl_std.apply(lambda x: (x * alpha))\n",
    "aapl_bollinger['lband'] = aapl_avg - aapl_std.apply(lambda x: (x * alpha))"
   ]
  },
  {
   "cell_type": "code",
   "execution_count": 33,
   "metadata": {},
   "outputs": [
    {
     "data": {
      "text/html": [
       "\n",
       "        <iframe\n",
       "            width=\"100%\"\n",
       "            height=\"525px\"\n",
       "            src=\"https://plot.ly/~andreestevam/210.embed\"\n",
       "            frameborder=\"0\"\n",
       "            allowfullscreen\n",
       "        ></iframe>\n",
       "        "
      ],
      "text/plain": [
       "<IPython.lib.display.IFrame at 0x7fdc9a720090>"
      ]
     },
     "execution_count": 33,
     "metadata": {},
     "output_type": "execute_result"
    }
   ],
   "source": [
    "aapl_prices = aapl[aapl_bollinger.index[0]:]\n",
    "\n",
    "upper_band = gobjs.Scatter(\n",
    "                x=aapl_bollinger.index,\n",
    "                y=aapl_bollinger.uband,\n",
    "                name = \"Upper Band\",\n",
    "                line = dict(color = '#17BECF'),\n",
    "                opacity = 1,\n",
    "            )\n",
    "\n",
    "\n",
    "lower_band = gobjs.Scatter(\n",
    "                x=aapl_bollinger.index,\n",
    "                y=aapl_bollinger.lband,\n",
    "                name = \"Lower Band\",\n",
    "                line = dict(color = '#17BECF'),\n",
    "                opacity = 1,\n",
    "                fill='tonexty'\n",
    "            )\n",
    "\n",
    "ma = gobjs.Scatter(\n",
    "                x=aapl_bollinger.index,\n",
    "                y=aapl_bollinger.mband,\n",
    "                name = \"Moving average\",\n",
    "                line = dict(color = '#B22222'),\n",
    "                opacity = 1\n",
    "            )\n",
    "\n",
    "prices = gobjs.Candlestick(\n",
    "                x=aapl_prices.index,\n",
    "                open=aapl_prices.Open,\n",
    "                high=aapl_prices.High,\n",
    "                low=aapl_prices.Low,\n",
    "                name = \"Prices\",\n",
    "                close=aapl_prices.Close\n",
    "            )\n",
    "\n",
    "\n",
    "\n",
    "\n",
    "\n",
    "data = [upper_band, lower_band, prices, ma]\n",
    "plty.iplot(data)"
   ]
  },
  {
   "cell_type": "code",
   "execution_count": 37,
   "metadata": {},
   "outputs": [
    {
     "data": {
      "text/html": [
       "\n",
       "        <iframe\n",
       "            width=\"100%\"\n",
       "            height=\"525px\"\n",
       "            src=\"https://plot.ly/~andreestevam/216.embed\"\n",
       "            frameborder=\"0\"\n",
       "            allowfullscreen\n",
       "        ></iframe>\n",
       "        "
      ],
      "text/plain": [
       "<IPython.lib.display.IFrame at 0x7fdc9a949090>"
      ]
     },
     "execution_count": 37,
     "metadata": {},
     "output_type": "execute_result"
    }
   ],
   "source": [
    "variation = gobjs.Scatter(\n",
    "                x=aapl_bollinger.index,\n",
    "                y=aapl_bollinger.uband - aapl_bollinger.lband,\n",
    "                name = \"Band width\",\n",
    "                line = dict(color = '#17BECF'),\n",
    "                opacity = 1,\n",
    "            )\n",
    "\n",
    "data = [variation]\n",
    "plty.iplot(data)"
   ]
  },
  {
   "cell_type": "markdown",
   "metadata": {},
   "source": [
    "## With EMA"
   ]
  },
  {
   "cell_type": "code",
   "execution_count": 27,
   "metadata": {},
   "outputs": [],
   "source": [
    "aapl_ewm_avg = aapl.Close.ewm(span=window,adjust=False).mean().dropna()\n",
    "aapl_ewm_std = aapl.Close.ewm(span=window,adjust=False).std().dropna()"
   ]
  },
  {
   "cell_type": "code",
   "execution_count": 34,
   "metadata": {},
   "outputs": [],
   "source": [
    "aapl_bollinger_ewma = pd.DataFrame(index=aapl_avg.index)\n",
    "aapl_bollinger_ewma['mband'] = aapl_ewm_avg\n",
    "aapl_bollinger_ewma['uband'] = aapl_ewm_avg + aapl_ewm_std.apply(lambda x: (x * alpha))\n",
    "aapl_bollinger_ewma['lband'] = aapl_ewm_avg - aapl_ewm_std.apply(lambda x: (x * alpha))"
   ]
  },
  {
   "cell_type": "code",
   "execution_count": 35,
   "metadata": {},
   "outputs": [
    {
     "data": {
      "text/html": [
       "\n",
       "        <iframe\n",
       "            width=\"100%\"\n",
       "            height=\"525px\"\n",
       "            src=\"https://plot.ly/~andreestevam/212.embed\"\n",
       "            frameborder=\"0\"\n",
       "            allowfullscreen\n",
       "        ></iframe>\n",
       "        "
      ],
      "text/plain": [
       "<IPython.lib.display.IFrame at 0x7fdc9a08c290>"
      ]
     },
     "execution_count": 35,
     "metadata": {},
     "output_type": "execute_result"
    }
   ],
   "source": [
    "aapl_prices = aapl[aapl_bollinger_ewma.index[0]:]\n",
    "\n",
    "upper_band = gobjs.Scatter(\n",
    "                x=aapl_bollinger_ewma.index,\n",
    "                y=aapl_bollinger_ewma.uband,\n",
    "                name = \"Upper Band\",\n",
    "                line = dict(color = '#17BECF'),\n",
    "                opacity = 1,\n",
    "            )\n",
    "\n",
    "\n",
    "lower_band = gobjs.Scatter(\n",
    "                x=aapl_bollinger_ewma.index,\n",
    "                y=aapl_bollinger_ewma.lband,\n",
    "                name = \"Lower Band\",\n",
    "                line = dict(color = '#17BECF'),\n",
    "                opacity = 1,\n",
    "                fill='tonexty'\n",
    "            )\n",
    "\n",
    "ma = gobjs.Scatter(\n",
    "                x=aapl_bollinger_ewma.index,\n",
    "                y=aapl_bollinger_ewma.mband,\n",
    "                name = \"Moving average\",\n",
    "                line = dict(color = '#B22222'),\n",
    "                opacity = 1\n",
    "            )\n",
    "\n",
    "prices = gobjs.Candlestick(\n",
    "                x=aapl_prices.index,\n",
    "                open=aapl_prices.Open,\n",
    "                high=aapl_prices.High,\n",
    "                low=aapl_prices.Low,\n",
    "                name = \"Prices\",\n",
    "                close=aapl_prices.Close\n",
    "            )\n",
    "\n",
    "\n",
    "\n",
    "\n",
    "\n",
    "data = [upper_band, lower_band, prices, ma]\n",
    "plty.iplot(data)"
   ]
  },
  {
   "cell_type": "code",
   "execution_count": 42,
   "metadata": {},
   "outputs": [
    {
     "data": {
      "text/html": [
       "\n",
       "        <iframe\n",
       "            width=\"100%\"\n",
       "            height=\"525px\"\n",
       "            src=\"https://plot.ly/~andreestevam/226.embed\"\n",
       "            frameborder=\"0\"\n",
       "            allowfullscreen\n",
       "        ></iframe>\n",
       "        "
      ],
      "text/plain": [
       "<IPython.lib.display.IFrame at 0x7fdc9a93fb10>"
      ]
     },
     "execution_count": 42,
     "metadata": {},
     "output_type": "execute_result"
    }
   ],
   "source": [
    "variation = gobjs.Scatter(\n",
    "                x=aapl_bollinger_ewma.index,\n",
    "                y=aapl_bollinger_ewma.uband - aapl_bollinger.lband,\n",
    "                name = \"Band width\",\n",
    "                line = dict(color = '#17BECF'),\n",
    "                opacity = 1,\n",
    "            )\n",
    "\n",
    "average = gobjs.Scatter(\n",
    "                x=aapl_bollinger_ewma.index,\n",
    "                y=(aapl_bollinger_ewma.uband - aapl_bollinger.lband).ewm(span=30,adjust=False).mean(),\n",
    "                name = \"Average\",\n",
    "                line = dict(color = '#DD9999'),\n",
    "                opacity = 1,\n",
    "            )\n",
    "\n",
    "\n",
    "data = [variation, average]\n",
    "plty.iplot(data)"
   ]
  },
  {
   "cell_type": "code",
   "execution_count": null,
   "metadata": {},
   "outputs": [],
   "source": []
  }
 ],
 "metadata": {
  "kernelspec": {
   "display_name": "Python 3",
   "language": "python",
   "name": "python3"
  },
  "language_info": {
   "codemirror_mode": {
    "name": "ipython",
    "version": 3
   },
   "file_extension": ".py",
   "mimetype": "text/x-python",
   "name": "python",
   "nbconvert_exporter": "python",
   "pygments_lexer": "ipython3",
   "version": "3.7.4"
  }
 },
 "nbformat": 4,
 "nbformat_minor": 4
}
