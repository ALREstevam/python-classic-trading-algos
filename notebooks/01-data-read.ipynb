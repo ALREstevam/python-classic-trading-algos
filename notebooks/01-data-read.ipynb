{
 "cells": [
  {
   "cell_type": "code",
   "execution_count": 1,
   "metadata": {},
   "outputs": [
    {
     "name": "stderr",
     "output_type": "stream",
     "text": [
      "/home/andre/Desktop/pythonTradingAlgos/tradingalgos/lib/python3.7/site-packages/pandas_datareader/compat/__init__.py:7: FutureWarning: pandas.util.testing is deprecated. Use the functions in the public API at pandas.testing instead.\n",
      "  from pandas.util.testing import assert_frame_equal\n"
     ]
    }
   ],
   "source": [
    "from pandas_datareader import data as pdr\n",
    "import yfinance as yf\n",
    "yf.pdr_override()\n",
    "import datetime\n",
    "import numpy as np"
   ]
  },
  {
   "cell_type": "code",
   "execution_count": 2,
   "metadata": {},
   "outputs": [
    {
     "name": "stdout",
     "output_type": "stream",
     "text": [
      "[*********************100%***********************]  1 of 1 completed\n"
     ]
    }
   ],
   "source": [
    "vale3 = pdr.get_data_yahoo('VALE3.SA', \n",
    "                           start=datetime.datetime(2016,10,1), \n",
    "                           end=datetime.datetime(2019,1,1)\n",
    "                          )\n"
   ]
  },
  {
   "cell_type": "code",
   "execution_count": 3,
   "metadata": {},
   "outputs": [
    {
     "data": {
      "text/html": [
       "<div>\n",
       "<style scoped>\n",
       "    .dataframe tbody tr th:only-of-type {\n",
       "        vertical-align: middle;\n",
       "    }\n",
       "\n",
       "    .dataframe tbody tr th {\n",
       "        vertical-align: top;\n",
       "    }\n",
       "\n",
       "    .dataframe thead th {\n",
       "        text-align: right;\n",
       "    }\n",
       "</style>\n",
       "<table border=\"1\" class=\"dataframe\">\n",
       "  <thead>\n",
       "    <tr style=\"text-align: right;\">\n",
       "      <th></th>\n",
       "      <th>Open</th>\n",
       "      <th>High</th>\n",
       "      <th>Low</th>\n",
       "      <th>Close</th>\n",
       "      <th>Adj Close</th>\n",
       "      <th>Volume</th>\n",
       "    </tr>\n",
       "    <tr>\n",
       "      <th>Date</th>\n",
       "      <th></th>\n",
       "      <th></th>\n",
       "      <th></th>\n",
       "      <th></th>\n",
       "      <th></th>\n",
       "      <th></th>\n",
       "    </tr>\n",
       "  </thead>\n",
       "  <tbody>\n",
       "    <tr>\n",
       "      <th>2016-10-03</th>\n",
       "      <td>17.850000</td>\n",
       "      <td>18.270000</td>\n",
       "      <td>17.750000</td>\n",
       "      <td>18.100000</td>\n",
       "      <td>16.131056</td>\n",
       "      <td>3689100</td>\n",
       "    </tr>\n",
       "    <tr>\n",
       "      <th>2016-10-04</th>\n",
       "      <td>18.200001</td>\n",
       "      <td>18.299999</td>\n",
       "      <td>17.559999</td>\n",
       "      <td>17.650000</td>\n",
       "      <td>15.730004</td>\n",
       "      <td>5321900</td>\n",
       "    </tr>\n",
       "    <tr>\n",
       "      <th>2016-10-05</th>\n",
       "      <td>17.879999</td>\n",
       "      <td>18.010000</td>\n",
       "      <td>17.709999</td>\n",
       "      <td>17.860001</td>\n",
       "      <td>15.917162</td>\n",
       "      <td>3221600</td>\n",
       "    </tr>\n",
       "    <tr>\n",
       "      <th>2016-10-06</th>\n",
       "      <td>17.840000</td>\n",
       "      <td>17.950001</td>\n",
       "      <td>17.700001</td>\n",
       "      <td>17.799999</td>\n",
       "      <td>15.863687</td>\n",
       "      <td>4178300</td>\n",
       "    </tr>\n",
       "    <tr>\n",
       "      <th>2016-10-07</th>\n",
       "      <td>17.969999</td>\n",
       "      <td>18.280001</td>\n",
       "      <td>17.719999</td>\n",
       "      <td>18.000000</td>\n",
       "      <td>16.041933</td>\n",
       "      <td>10040900</td>\n",
       "    </tr>\n",
       "  </tbody>\n",
       "</table>\n",
       "</div>"
      ],
      "text/plain": [
       "                 Open       High        Low      Close  Adj Close    Volume\n",
       "Date                                                                       \n",
       "2016-10-03  17.850000  18.270000  17.750000  18.100000  16.131056   3689100\n",
       "2016-10-04  18.200001  18.299999  17.559999  17.650000  15.730004   5321900\n",
       "2016-10-05  17.879999  18.010000  17.709999  17.860001  15.917162   3221600\n",
       "2016-10-06  17.840000  17.950001  17.700001  17.799999  15.863687   4178300\n",
       "2016-10-07  17.969999  18.280001  17.719999  18.000000  16.041933  10040900"
      ]
     },
     "metadata": {},
     "output_type": "display_data"
    }
   ],
   "source": [
    "display(vale3.head())"
   ]
  },
  {
   "cell_type": "code",
   "execution_count": 4,
   "metadata": {},
   "outputs": [
    {
     "data": {
      "text/html": [
       "<div>\n",
       "<style scoped>\n",
       "    .dataframe tbody tr th:only-of-type {\n",
       "        vertical-align: middle;\n",
       "    }\n",
       "\n",
       "    .dataframe tbody tr th {\n",
       "        vertical-align: top;\n",
       "    }\n",
       "\n",
       "    .dataframe thead th {\n",
       "        text-align: right;\n",
       "    }\n",
       "</style>\n",
       "<table border=\"1\" class=\"dataframe\">\n",
       "  <thead>\n",
       "    <tr style=\"text-align: right;\">\n",
       "      <th></th>\n",
       "      <th>Open</th>\n",
       "      <th>High</th>\n",
       "      <th>Low</th>\n",
       "      <th>Close</th>\n",
       "      <th>Adj Close</th>\n",
       "      <th>Volume</th>\n",
       "    </tr>\n",
       "    <tr>\n",
       "      <th>Date</th>\n",
       "      <th></th>\n",
       "      <th></th>\n",
       "      <th></th>\n",
       "      <th></th>\n",
       "      <th></th>\n",
       "      <th></th>\n",
       "    </tr>\n",
       "  </thead>\n",
       "  <tbody>\n",
       "    <tr>\n",
       "      <th>2018-12-20</th>\n",
       "      <td>50.740002</td>\n",
       "      <td>51.169998</td>\n",
       "      <td>49.450001</td>\n",
       "      <td>49.810001</td>\n",
       "      <td>48.524197</td>\n",
       "      <td>25323700</td>\n",
       "    </tr>\n",
       "    <tr>\n",
       "      <th>2018-12-21</th>\n",
       "      <td>50.279999</td>\n",
       "      <td>51.250000</td>\n",
       "      <td>50.220001</td>\n",
       "      <td>50.860001</td>\n",
       "      <td>49.547092</td>\n",
       "      <td>28272600</td>\n",
       "    </tr>\n",
       "    <tr>\n",
       "      <th>2018-12-26</th>\n",
       "      <td>50.110001</td>\n",
       "      <td>50.700001</td>\n",
       "      <td>49.400002</td>\n",
       "      <td>50.439999</td>\n",
       "      <td>49.137932</td>\n",
       "      <td>13356400</td>\n",
       "    </tr>\n",
       "    <tr>\n",
       "      <th>2018-12-27</th>\n",
       "      <td>50.099998</td>\n",
       "      <td>50.389999</td>\n",
       "      <td>49.279999</td>\n",
       "      <td>49.500000</td>\n",
       "      <td>48.222198</td>\n",
       "      <td>14332000</td>\n",
       "    </tr>\n",
       "    <tr>\n",
       "      <th>2018-12-28</th>\n",
       "      <td>50.310001</td>\n",
       "      <td>51.200001</td>\n",
       "      <td>50.250000</td>\n",
       "      <td>51.000000</td>\n",
       "      <td>49.683475</td>\n",
       "      <td>11914300</td>\n",
       "    </tr>\n",
       "  </tbody>\n",
       "</table>\n",
       "</div>"
      ],
      "text/plain": [
       "                 Open       High        Low      Close  Adj Close    Volume\n",
       "Date                                                                       \n",
       "2018-12-20  50.740002  51.169998  49.450001  49.810001  48.524197  25323700\n",
       "2018-12-21  50.279999  51.250000  50.220001  50.860001  49.547092  28272600\n",
       "2018-12-26  50.110001  50.700001  49.400002  50.439999  49.137932  13356400\n",
       "2018-12-27  50.099998  50.389999  49.279999  49.500000  48.222198  14332000\n",
       "2018-12-28  50.310001  51.200001  50.250000  51.000000  49.683475  11914300"
      ]
     },
     "metadata": {},
     "output_type": "display_data"
    }
   ],
   "source": [
    "display(vale3.tail())"
   ]
  },
  {
   "cell_type": "code",
   "execution_count": 5,
   "metadata": {},
   "outputs": [
    {
     "data": {
      "text/html": [
       "<div>\n",
       "<style scoped>\n",
       "    .dataframe tbody tr th:only-of-type {\n",
       "        vertical-align: middle;\n",
       "    }\n",
       "\n",
       "    .dataframe tbody tr th {\n",
       "        vertical-align: top;\n",
       "    }\n",
       "\n",
       "    .dataframe thead th {\n",
       "        text-align: right;\n",
       "    }\n",
       "</style>\n",
       "<table border=\"1\" class=\"dataframe\">\n",
       "  <thead>\n",
       "    <tr style=\"text-align: right;\">\n",
       "      <th></th>\n",
       "      <th>Open</th>\n",
       "      <th>High</th>\n",
       "      <th>Low</th>\n",
       "      <th>Close</th>\n",
       "      <th>Adj Close</th>\n",
       "      <th>Volume</th>\n",
       "    </tr>\n",
       "  </thead>\n",
       "  <tbody>\n",
       "    <tr>\n",
       "      <th>count</th>\n",
       "      <td>560.000000</td>\n",
       "      <td>560.000000</td>\n",
       "      <td>560.000000</td>\n",
       "      <td>560.000000</td>\n",
       "      <td>560.000000</td>\n",
       "      <td>5.600000e+02</td>\n",
       "    </tr>\n",
       "    <tr>\n",
       "      <th>mean</th>\n",
       "      <td>38.714214</td>\n",
       "      <td>39.261393</td>\n",
       "      <td>38.158054</td>\n",
       "      <td>38.709214</td>\n",
       "      <td>36.328037</td>\n",
       "      <td>1.337664e+07</td>\n",
       "    </tr>\n",
       "    <tr>\n",
       "      <th>std</th>\n",
       "      <td>11.092145</td>\n",
       "      <td>11.180888</td>\n",
       "      <td>10.950990</td>\n",
       "      <td>11.061257</td>\n",
       "      <td>11.302166</td>\n",
       "      <td>8.200185e+06</td>\n",
       "    </tr>\n",
       "    <tr>\n",
       "      <th>min</th>\n",
       "      <td>17.840000</td>\n",
       "      <td>17.950001</td>\n",
       "      <td>17.559999</td>\n",
       "      <td>17.650000</td>\n",
       "      <td>15.730004</td>\n",
       "      <td>0.000000e+00</td>\n",
       "    </tr>\n",
       "    <tr>\n",
       "      <th>25%</th>\n",
       "      <td>29.667500</td>\n",
       "      <td>30.165000</td>\n",
       "      <td>29.204999</td>\n",
       "      <td>29.642500</td>\n",
       "      <td>26.886350</td>\n",
       "      <td>6.290675e+06</td>\n",
       "    </tr>\n",
       "    <tr>\n",
       "      <th>50%</th>\n",
       "      <td>35.195000</td>\n",
       "      <td>35.645000</td>\n",
       "      <td>34.650000</td>\n",
       "      <td>35.170000</td>\n",
       "      <td>32.501396</td>\n",
       "      <td>1.301110e+07</td>\n",
       "    </tr>\n",
       "    <tr>\n",
       "      <th>75%</th>\n",
       "      <td>49.692499</td>\n",
       "      <td>50.424998</td>\n",
       "      <td>49.052500</td>\n",
       "      <td>49.624999</td>\n",
       "      <td>47.060589</td>\n",
       "      <td>1.879945e+07</td>\n",
       "    </tr>\n",
       "    <tr>\n",
       "      <th>max</th>\n",
       "      <td>62.200001</td>\n",
       "      <td>62.419998</td>\n",
       "      <td>60.480000</td>\n",
       "      <td>62.200001</td>\n",
       "      <td>60.594360</td>\n",
       "      <td>5.642970e+07</td>\n",
       "    </tr>\n",
       "  </tbody>\n",
       "</table>\n",
       "</div>"
      ],
      "text/plain": [
       "             Open        High         Low       Close   Adj Close  \\\n",
       "count  560.000000  560.000000  560.000000  560.000000  560.000000   \n",
       "mean    38.714214   39.261393   38.158054   38.709214   36.328037   \n",
       "std     11.092145   11.180888   10.950990   11.061257   11.302166   \n",
       "min     17.840000   17.950001   17.559999   17.650000   15.730004   \n",
       "25%     29.667500   30.165000   29.204999   29.642500   26.886350   \n",
       "50%     35.195000   35.645000   34.650000   35.170000   32.501396   \n",
       "75%     49.692499   50.424998   49.052500   49.624999   47.060589   \n",
       "max     62.200001   62.419998   60.480000   62.200001   60.594360   \n",
       "\n",
       "             Volume  \n",
       "count  5.600000e+02  \n",
       "mean   1.337664e+07  \n",
       "std    8.200185e+06  \n",
       "min    0.000000e+00  \n",
       "25%    6.290675e+06  \n",
       "50%    1.301110e+07  \n",
       "75%    1.879945e+07  \n",
       "max    5.642970e+07  "
      ]
     },
     "metadata": {},
     "output_type": "display_data"
    }
   ],
   "source": [
    "display(vale3.describe())"
   ]
  },
  {
   "cell_type": "code",
   "execution_count": 6,
   "metadata": {},
   "outputs": [
    {
     "name": "stdout",
     "output_type": "stream",
     "text": [
      "DatetimeIndex(['2016-10-03', '2016-10-04', '2016-10-05', '2016-10-06',\n",
      "               '2016-10-07', '2016-10-10', '2016-10-11', '2016-10-13',\n",
      "               '2016-10-14', '2016-10-17',\n",
      "               ...\n",
      "               '2018-12-13', '2018-12-14', '2018-12-17', '2018-12-18',\n",
      "               '2018-12-19', '2018-12-20', '2018-12-21', '2018-12-26',\n",
      "               '2018-12-27', '2018-12-28'],\n",
      "              dtype='datetime64[ns]', name='Date', length=560, freq=None)\n"
     ]
    }
   ],
   "source": [
    "print(vale3.index)"
   ]
  },
  {
   "cell_type": "code",
   "execution_count": 7,
   "metadata": {},
   "outputs": [
    {
     "name": "stdout",
     "output_type": "stream",
     "text": [
      "Index(['Open', 'High', 'Low', 'Close', 'Adj Close', 'Volume'], dtype='object')\n"
     ]
    }
   ],
   "source": [
    "print(vale3.columns)"
   ]
  },
  {
   "cell_type": "code",
   "execution_count": 8,
   "metadata": {},
   "outputs": [
    {
     "data": {
      "text/html": [
       "<div>\n",
       "<style scoped>\n",
       "    .dataframe tbody tr th:only-of-type {\n",
       "        vertical-align: middle;\n",
       "    }\n",
       "\n",
       "    .dataframe tbody tr th {\n",
       "        vertical-align: top;\n",
       "    }\n",
       "\n",
       "    .dataframe thead th {\n",
       "        text-align: right;\n",
       "    }\n",
       "</style>\n",
       "<table border=\"1\" class=\"dataframe\">\n",
       "  <thead>\n",
       "    <tr style=\"text-align: right;\">\n",
       "      <th></th>\n",
       "      <th>Open</th>\n",
       "      <th>High</th>\n",
       "      <th>Low</th>\n",
       "      <th>Close</th>\n",
       "      <th>Adj Close</th>\n",
       "      <th>Volume</th>\n",
       "    </tr>\n",
       "    <tr>\n",
       "      <th>Date</th>\n",
       "      <th></th>\n",
       "      <th></th>\n",
       "      <th></th>\n",
       "      <th></th>\n",
       "      <th></th>\n",
       "      <th></th>\n",
       "    </tr>\n",
       "  </thead>\n",
       "  <tbody>\n",
       "    <tr>\n",
       "      <th>2018-01-02</th>\n",
       "      <td>40.439999</td>\n",
       "      <td>41.740002</td>\n",
       "      <td>40.439999</td>\n",
       "      <td>41.720001</td>\n",
       "      <td>39.060638</td>\n",
       "      <td>14156500</td>\n",
       "    </tr>\n",
       "    <tr>\n",
       "      <th>2018-01-03</th>\n",
       "      <td>41.830002</td>\n",
       "      <td>41.880001</td>\n",
       "      <td>41.299999</td>\n",
       "      <td>41.470001</td>\n",
       "      <td>38.826576</td>\n",
       "      <td>12744200</td>\n",
       "    </tr>\n",
       "    <tr>\n",
       "      <th>2018-01-04</th>\n",
       "      <td>41.810001</td>\n",
       "      <td>42.369999</td>\n",
       "      <td>41.520000</td>\n",
       "      <td>41.639999</td>\n",
       "      <td>38.985741</td>\n",
       "      <td>18433000</td>\n",
       "    </tr>\n",
       "    <tr>\n",
       "      <th>2018-01-05</th>\n",
       "      <td>41.570000</td>\n",
       "      <td>42.290001</td>\n",
       "      <td>41.310001</td>\n",
       "      <td>42.290001</td>\n",
       "      <td>39.594303</td>\n",
       "      <td>15251300</td>\n",
       "    </tr>\n",
       "    <tr>\n",
       "      <th>2018-01-08</th>\n",
       "      <td>42.400002</td>\n",
       "      <td>43.230000</td>\n",
       "      <td>42.400002</td>\n",
       "      <td>43.230000</td>\n",
       "      <td>40.474384</td>\n",
       "      <td>14542800</td>\n",
       "    </tr>\n",
       "    <tr>\n",
       "      <th>2018-01-09</th>\n",
       "      <td>43.580002</td>\n",
       "      <td>43.750000</td>\n",
       "      <td>42.930000</td>\n",
       "      <td>43.070000</td>\n",
       "      <td>40.324589</td>\n",
       "      <td>15986200</td>\n",
       "    </tr>\n",
       "    <tr>\n",
       "      <th>2018-01-10</th>\n",
       "      <td>42.740002</td>\n",
       "      <td>42.950001</td>\n",
       "      <td>42.419998</td>\n",
       "      <td>42.470001</td>\n",
       "      <td>39.762829</td>\n",
       "      <td>12149500</td>\n",
       "    </tr>\n",
       "    <tr>\n",
       "      <th>2018-01-11</th>\n",
       "      <td>42.599998</td>\n",
       "      <td>43.299999</td>\n",
       "      <td>42.599998</td>\n",
       "      <td>43.299999</td>\n",
       "      <td>40.539925</td>\n",
       "      <td>10236300</td>\n",
       "    </tr>\n",
       "    <tr>\n",
       "      <th>2018-01-12</th>\n",
       "      <td>42.950001</td>\n",
       "      <td>43.660000</td>\n",
       "      <td>42.750000</td>\n",
       "      <td>43.549999</td>\n",
       "      <td>40.773987</td>\n",
       "      <td>15014300</td>\n",
       "    </tr>\n",
       "    <tr>\n",
       "      <th>2018-01-15</th>\n",
       "      <td>43.500000</td>\n",
       "      <td>43.720001</td>\n",
       "      <td>43.270000</td>\n",
       "      <td>43.470001</td>\n",
       "      <td>40.699089</td>\n",
       "      <td>7253400</td>\n",
       "    </tr>\n",
       "  </tbody>\n",
       "</table>\n",
       "</div>"
      ],
      "text/plain": [
       "                 Open       High        Low      Close  Adj Close    Volume\n",
       "Date                                                                       \n",
       "2018-01-02  40.439999  41.740002  40.439999  41.720001  39.060638  14156500\n",
       "2018-01-03  41.830002  41.880001  41.299999  41.470001  38.826576  12744200\n",
       "2018-01-04  41.810001  42.369999  41.520000  41.639999  38.985741  18433000\n",
       "2018-01-05  41.570000  42.290001  41.310001  42.290001  39.594303  15251300\n",
       "2018-01-08  42.400002  43.230000  42.400002  43.230000  40.474384  14542800\n",
       "2018-01-09  43.580002  43.750000  42.930000  43.070000  40.324589  15986200\n",
       "2018-01-10  42.740002  42.950001  42.419998  42.470001  39.762829  12149500\n",
       "2018-01-11  42.599998  43.299999  42.599998  43.299999  40.539925  10236300\n",
       "2018-01-12  42.950001  43.660000  42.750000  43.549999  40.773987  15014300\n",
       "2018-01-15  43.500000  43.720001  43.270000  43.470001  40.699089   7253400"
      ]
     },
     "execution_count": 8,
     "metadata": {},
     "output_type": "execute_result"
    }
   ],
   "source": [
    "vale3['2018-01-01':].head(10)"
   ]
  },
  {
   "cell_type": "markdown",
   "metadata": {},
   "source": [
    "Variação percentual intradiária de um ativo - variação entre o preço de abertura e o de fechamento dentro de um determinado dia\n",
    "\n",
    "para cada dia d:\n",
    "    var_percent = d.open / d.close"
   ]
  },
  {
   "cell_type": "code",
   "execution_count": 9,
   "metadata": {},
   "outputs": [
    {
     "data": {
      "text/plain": [
       "Date\n",
       "2016-10-03    1.400560\n",
       "2016-10-04   -3.021984\n",
       "2016-10-05   -0.111849\n",
       "2016-10-06   -0.224220\n",
       "2016-10-07    0.166949\n",
       "2016-10-10    4.440787\n",
       "2016-10-11   -1.483044\n",
       "2016-10-13   -2.739726\n",
       "2016-10-14   -0.441989\n",
       "2016-10-17    0.829185\n",
       "dtype: float64"
      ]
     },
     "metadata": {},
     "output_type": "display_data"
    }
   ],
   "source": [
    "pct_c = (vale3.Close / vale3.Open).apply(lambda x : x - 1) * 100\n",
    "display(pct_c.head(10))"
   ]
  },
  {
   "cell_type": "code",
   "execution_count": 10,
   "metadata": {},
   "outputs": [
    {
     "data": {
      "text/plain": [
       "Date\n",
       "2016-10-03         NaN\n",
       "2016-10-04   -0.025176\n",
       "2016-10-05    0.011828\n",
       "2016-10-06   -0.003365\n",
       "2016-10-07    0.011173\n",
       "2016-10-10    0.056695\n",
       "2016-10-11   -0.023905\n",
       "2016-10-13   -0.046776\n",
       "2016-10-14    0.015097\n",
       "2016-10-17    0.012135\n",
       "Name: Close, dtype: float64"
      ]
     },
     "metadata": {},
     "output_type": "display_data"
    }
   ],
   "source": [
    "daily_log_returns = np.log(vale3.Close.pct_change() + 1)\n",
    "display(daily_log_returns.head(10))"
   ]
  },
  {
   "cell_type": "code",
   "execution_count": 11,
   "metadata": {},
   "outputs": [],
   "source": [
    "import chart_studio.plotly as plty"
   ]
  },
  {
   "cell_type": "code",
   "execution_count": 13,
   "metadata": {},
   "outputs": [],
   "source": [
    "import sys\n",
    "import os\n",
    "sys.path.insert(0, os.path.abspath('../py'))\n",
    "from Secrets import ReadSecrets"
   ]
  },
  {
   "cell_type": "code",
   "execution_count": 14,
   "metadata": {},
   "outputs": [],
   "source": [
    "secrets = ReadSecrets().read('../secrets.json')\n",
    "plty.sign_in(secrets.secrets['plotly']['username'], secrets.secrets['plotly']['apiKey'])\n"
   ]
  },
  {
   "cell_type": "code",
   "execution_count": 18,
   "metadata": {},
   "outputs": [],
   "source": [
    "import plotly.graph_objs as gobjs"
   ]
  },
  {
   "cell_type": "code",
   "execution_count": 20,
   "metadata": {},
   "outputs": [
    {
     "data": {
      "text/html": [
       "\n",
       "        <iframe\n",
       "            width=\"100%\"\n",
       "            height=\"525px\"\n",
       "            src=\"https://plot.ly/~andreestevam/34.embed\"\n",
       "            frameborder=\"0\"\n",
       "            allowfullscreen\n",
       "        ></iframe>\n",
       "        "
      ],
      "text/plain": [
       "<IPython.lib.display.IFrame at 0x7f4ea6f62ad0>"
      ]
     },
     "execution_count": 20,
     "metadata": {},
     "output_type": "execute_result"
    }
   ],
   "source": [
    "data = [gobjs.Histogram(x=daily_log_returns)]\n",
    "plty.iplot(data, filename='basic histogram')"
   ]
  },
  {
   "cell_type": "code",
   "execution_count": null,
   "metadata": {},
   "outputs": [],
   "source": []
  }
 ],
 "metadata": {
  "kernelspec": {
   "display_name": "Python 3",
   "language": "python",
   "name": "python3"
  },
  "language_info": {
   "codemirror_mode": {
    "name": "ipython",
    "version": 3
   },
   "file_extension": ".py",
   "mimetype": "text/x-python",
   "name": "python",
   "nbconvert_exporter": "python",
   "pygments_lexer": "ipython3",
   "version": "3.7.4"
  },
  "pycharm": {
   "stem_cell": {
    "cell_type": "raw",
    "source": [],
    "metadata": {
     "collapsed": false
    }
   }
  }
 },
 "nbformat": 4,
 "nbformat_minor": 4
}